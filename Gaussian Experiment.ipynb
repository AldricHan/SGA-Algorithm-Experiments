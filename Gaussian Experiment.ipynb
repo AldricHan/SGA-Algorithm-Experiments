{
 "metadata": {
  "language_info": {
   "codemirror_mode": {
    "name": "ipython",
    "version": 3
   },
   "file_extension": ".py",
   "mimetype": "text/x-python",
   "name": "python",
   "nbconvert_exporter": "python",
   "pygments_lexer": "ipython3",
   "version": "3.7.7-final"
  },
  "orig_nbformat": 2,
  "kernelspec": {
   "name": "python3",
   "display_name": "Python 3.7.7 64-bit",
   "metadata": {
    "interpreter": {
     "hash": "0acf1eeacea8377a816adc30e964b7a2a636c3dbf2dc80399de054ee58b56bd9"
    }
   }
  }
 },
 "nbformat": 4,
 "nbformat_minor": 2,
 "cells": [
  {
   "cell_type": "code",
   "execution_count": null,
   "metadata": {},
   "outputs": [],
   "source": [
    "import sample_generators\n",
    "from tqdm.notebook import tqdm\n",
    "import numpy as np\n",
    "import multiprocessing as mp\n",
    "\n",
    "\n",
    "tree = [0]+list(range(9))\n",
    "print(tree)\n",
    "equivalence_class = sample_generators.generate_equivalence_class(sample_generators.makeEdges(tree))\n",
    "w = 0.5\n",
    "noisy_nodes = [0,2,4,6,8]\n",
    "noise_variance = 2\n",
    "SigmaQ, rho_min, RHO_MAX, Q = sample_generators.getStatistics(tree, w, noisy_nodes, noise_variance)\n",
    "\n",
    "\n",
    "m_error_p = 1\n",
    "m_error_ps = []\n",
    "k_error_ps = []\n",
    "sample_range = []\n",
    "pbar = tqdm()\n",
    "tqdm.refresh\n",
    "\n",
    "num_samples = 1100\n",
    "STEP = 750\n",
    "MAX_ITER = 10**3\n",
    "\n",
    "def log_result(result):\n",
    "    global pbar\n",
    "    global errors\n",
    "    pbar.update()\n",
    "    errors = errors + result\n",
    "\n",
    "def do_async(args, MAX_ITER):\n",
    "    num_processors = 4\n",
    "    p=mp.Pool(processes = num_processors)\n",
    "    for i in range(MAX_ITER):\n",
    "        p.apply_async(sample_generators.parallelGaussianTest, args = args, callback = log_result) \n",
    "    p.close()\n",
    "    p.join()\n",
    "\n",
    "while(m_error_p > 10**-3):\n",
    "    errors = np.zeros(2)\n",
    "    args = (num_samples, rho_min, RHO_MAX, SigmaQ, equivalence_class, Q)\n",
    "    \n",
    "    pbar.reset(total = len(range(MAX_ITER)))\n",
    "    if __name__ ==  '__main__': \n",
    "        do_async(args, MAX_ITER)\n",
    "    pbar.refresh()\n",
    "\n",
    "    errors = errors/MAX_ITER\n",
    "    m_error_p = errors[0]\n",
    "    k_error_p = errors[1]\n",
    "    m_error_ps.append(m_error_p)\n",
    "    k_error_ps.append(k_error_p)\n",
    "    sample_range.append(num_samples)\n",
    "\n",
    "    print('samples:', num_samples, 'k errors:', k_error_p, 'm errors:', m_error_p)\n",
    "\n",
    "    num_samples += STEP\n"
   ]
  }
 ]
}